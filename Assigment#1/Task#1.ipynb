{
 "cells": [
  {
   "cell_type": "code",
   "execution_count": 3,
   "id": "987062bc",
   "metadata": {},
   "outputs": [],
   "source": [
    "#1.Write a pyhton Program to print following string in a specfic format "
   ]
  },
  {
   "cell_type": "code",
   "execution_count": 9,
   "id": "2405e715",
   "metadata": {},
   "outputs": [
    {
     "name": "stdout",
     "output_type": "stream",
     "text": [
      "Twinkle, twinkle, little star, \n",
      "\t How I wonder what you are! \n",
      "\t\tUp above the world so high, \n",
      "\t\tLike a diamond in the sky. \n",
      "Twinkle, twinkle, little star, \n",
      "\tHow I wonder what you are!\n"
     ]
    }
   ],
   "source": [
    "print(\"Twinkle, twinkle, little star, \\n\\t How I wonder what you are! \\n\\t\\tUp above the world so high, \\n\\t\\tLike a diamond in the sky. \\nTwinkle, twinkle, little star, \\n\\tHow I wonder what you are!\")\n",
    "\n"
   ]
  },
  {
   "cell_type": "code",
   "execution_count": 6,
   "id": "f195fb6e",
   "metadata": {},
   "outputs": [],
   "source": [
    "#2. Write a Python program to get the Python version you are using"
   ]
  },
  {
   "cell_type": "code",
   "execution_count": 11,
   "id": "7d01ecf0",
   "metadata": {},
   "outputs": [
    {
     "name": "stdout",
     "output_type": "stream",
     "text": [
      "Python version\n",
      "3.8.8 (default, Apr 13 2021, 15:08:03) [MSC v.1916 64 bit (AMD64)]\n"
     ]
    }
   ],
   "source": [
    "import sys\n",
    "print(\"Python version\")\n",
    "print (sys.version)"
   ]
  },
  {
   "cell_type": "code",
   "execution_count": 10,
   "id": "73c8c9cf",
   "metadata": {},
   "outputs": [
    {
     "name": "stdout",
     "output_type": "stream",
     "text": [
      "date and time now:  30/12/2021 22:44:11\n"
     ]
    }
   ],
   "source": [
    "#3. Current data and time \n",
    "from datetime import datetime\n",
    "dt = now.strftime(\"%d/%m/%Y %H:%M:%S\")\n",
    "print(\"date and time now: \", dt)"
   ]
  },
  {
   "cell_type": "code",
   "execution_count": null,
   "id": "b0be288b",
   "metadata": {},
   "outputs": [],
   "source": [
    "#4. accept the radius of a circle from the user and compute the area"
   ]
  },
  {
   "cell_type": "code",
   "execution_count": 13,
   "id": "ca716bbf",
   "metadata": {},
   "outputs": [
    {
     "name": "stdout",
     "output_type": "stream",
     "text": [
      "Enter radius of circle : 12\n",
      "Area of the circle is: 452.3893421169302\n"
     ]
    }
   ],
   "source": [
    "from math import pi\n",
    "\n",
    "r = float(input (\"Enter radius of circle : \"))\n",
    "\n",
    "print (\"Area of the circle is: \" + str(pi * r**2))"
   ]
  },
  {
   "cell_type": "code",
   "execution_count": null,
   "id": "12e7d774",
   "metadata": {},
   "outputs": [],
   "source": [
    "#5. reverse order with a space between them"
   ]
  },
  {
   "cell_type": "code",
   "execution_count": 11,
   "id": "67035fce",
   "metadata": {},
   "outputs": [
    {
     "name": "stdout",
     "output_type": "stream",
     "text": [
      "Input your First Name : Muhammad\n",
      "Input your Last Name : Waseem\n",
      "reverse of your name is:  Waseem Muhammad\n"
     ]
    }
   ],
   "source": [
    "first_name = input(\"Input your First Name : \")\n",
    "last_name = input(\"Input your Last Name : \")\n",
    "print ('reverse of your name is: ',last_name + \" \" + first_name)"
   ]
  },
  {
   "cell_type": "code",
   "execution_count": 2,
   "id": "4ca407b5",
   "metadata": {},
   "outputs": [],
   "source": [
    "#6. two input from the user and print them addition\n"
   ]
  },
  {
   "cell_type": "code",
   "execution_count": 8,
   "id": "b18a3098",
   "metadata": {},
   "outputs": [
    {
     "name": "stdout",
     "output_type": "stream",
     "text": [
      "enter your first number12\n",
      "enter your second number12\n",
      "The sum is:  24\n"
     ]
    }
   ],
   "source": [
    "number_1= input('enter your first number')\n",
    "number_2 = input ('enter your second number')\n",
    "sum = int(number_1) + int(number_2)\n",
    "print(\"The sum is: \", sum)\n"
   ]
  }
 ],
 "metadata": {
  "kernelspec": {
   "display_name": "Python 3",
   "language": "python",
   "name": "python3"
  },
  "language_info": {
   "codemirror_mode": {
    "name": "ipython",
    "version": 3
   },
   "file_extension": ".py",
   "mimetype": "text/x-python",
   "name": "python",
   "nbconvert_exporter": "python",
   "pygments_lexer": "ipython3",
   "version": "3.8.8"
  }
 },
 "nbformat": 4,
 "nbformat_minor": 5
}
